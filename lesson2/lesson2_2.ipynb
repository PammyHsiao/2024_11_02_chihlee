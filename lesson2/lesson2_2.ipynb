{
 "cells": [
  {
   "cell_type": "code",
   "execution_count": null,
   "metadata": {},
   "outputs": [],
   "source": [
    "#學生總分300\n",
    "#有些學生可以加分5%\n",
    "\n",
    "try:\n",
    "    #以下為錯誤寫法\n",
    "    scores = int(input('請輸入學生分數(最高300分):'))\n",
    "except ValueError:\n",
    "    print(\"格式錯誤\")\n",
    "\n",
    "is_add = input('學生是否符合加分條件?(y,n)')\n",
    "\n",
    "if is_add == 'y':\n",
    "    scores = scores * 1.05\n",
    "    if scores > 300:\n",
    "        scores = 300\n",
    "        \n",
    "print(scores)"
   ]
  },
  {
   "cell_type": "code",
   "execution_count": null,
   "metadata": {},
   "outputs": [
    {
     "name": "stdout",
     "output_type": "stream",
     "text": [
      "300\n",
      "應用程式結束\n"
     ]
    }
   ],
   "source": [
    "#學生總分300\n",
    "#有些學生可以加分5%\n",
    "\n",
    "try:\n",
    "    #以下為錯誤寫法\n",
    "    scores = int(input('請輸入學生分數(最高300分):'))\n",
    "    is_add = input('學生是否符合加分條件?(y,n)')\n",
    "\n",
    "    if is_add == 'y':\n",
    "        scores = scores * 1.05\n",
    "        if scores > 300:\n",
    "            scores = 300\n",
    "    print(scores)\n",
    "\n",
    "except ValueError:\n",
    "    print(\"格式錯誤\")\n",
    "except NameError:\n",
    "    print(\"名字錯誤\")\n",
    "\n",
    "#或可以用以下來代表全誤錯誤\n",
    "except Exception:\n",
    "    print(\"發生錯誤\")\n",
    "    \n",
    "print(\"應用程式結束\")\n",
    "\n"
   ]
  },
  {
   "cell_type": "code",
   "execution_count": 6,
   "metadata": {},
   "outputs": [
    {
     "name": "stdout",
     "output_type": "stream",
     "text": [
      "262.5\n",
      "一般寫法 - 學生的分數是:262.5分\n",
      "字串插補 - 學生的分數是:262.5分\n",
      "應用程式結束\n"
     ]
    }
   ],
   "source": [
    "#學生總分300\n",
    "#有些學生可以加分5%\n",
    "\n",
    "#以下方式可以先判斷無錯誤,則往except 後執行, 如錯誤就往下跑\n",
    "\n",
    "try:\n",
    "    #以下為錯誤寫法\n",
    "    scores = int(input('請輸入學生分數(最高300分):'))\n",
    "except Exception:\n",
    "    print(\"發生錯誤\")\n",
    "\n",
    "else:\n",
    "\n",
    "    is_add = input('學生是否符合加分條件?(y,n)')\n",
    "\n",
    "    if is_add == 'y':\n",
    "        scores = scores * 1.05\n",
    "        if scores > 300:\n",
    "            scores = 300\n",
    "    print(scores)\n",
    "    \n",
    "    #一般的寫法\n",
    "    print(\"一般寫法 - 學生的分數是:\" + str(scores) + \"分\")\n",
    "\n",
    "    #字串插補\n",
    "    print(f\"字串插補 - 學生的分數是:{scores}分\")\n",
    "\n",
    "print(\"應用程式結束\")"
   ]
  }
 ],
 "metadata": {
  "kernelspec": {
   "display_name": "base",
   "language": "python",
   "name": "python3"
  },
  "language_info": {
   "codemirror_mode": {
    "name": "ipython",
    "version": 3
   },
   "file_extension": ".py",
   "mimetype": "text/x-python",
   "name": "python",
   "nbconvert_exporter": "python",
   "pygments_lexer": "ipython3",
   "version": "3.12.7"
  }
 },
 "nbformat": 4,
 "nbformat_minor": 2
}
