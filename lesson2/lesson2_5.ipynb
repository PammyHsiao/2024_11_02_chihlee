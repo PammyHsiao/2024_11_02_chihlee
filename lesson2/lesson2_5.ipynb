{
 "cells": [
  {
   "cell_type": "code",
   "execution_count": null,
   "metadata": {},
   "outputs": [],
   "source": [
    "\n",
    "try:\n",
    "    height_cm = float(input(\"請輸入身高(公分):\"))\n",
    "    weight_kg = float(input(\"請輸入身高(公分):\"))\n",
    "except Exception:\n",
    "    print(\"輸入格式錯誤\")\n",
    "else:\n",
    "    height_m = round(height_cm/100,2)\n",
    "    height_m2 = round(weight_kg/(height_m**2),2)\n",
    "    bmi_kg_m2 = 0\n",
    "\n",
    "\n",
    "    if bmi_kg_m2 >= 35:\n",
    "        bmi = '重度肥胖'\n",
    "    elif bmi_kg_m2 >= 29:\n",
    "         bmi = '中度肥胖'\n",
    "    elif bmi_kg_m2 >= 27:\n",
    "        bmi = '輕度肥胖'\n",
    "    elif bmi_kg_m2 >= 24:\n",
    "         bmi = '過重'\n",
    "    elif bmi_kg_m2 >= 18.5:\n",
    "         bmi = '正常範圍'\n",
    "    else:\n",
    "        bom = '過輕'\n",
    "\n",
    "    print(\"你的BOM值(bmi_kg_m2)\\n您的體重(bmi)\")\n",
    "\n",
    "print(\"程度錯誤\")\n",
    "\n",
    "\n"
   ]
  }
 ],
 "metadata": {
  "language_info": {
   "name": "python"
  }
 },
 "nbformat": 4,
 "nbformat_minor": 2
}
