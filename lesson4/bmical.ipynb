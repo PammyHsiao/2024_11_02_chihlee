{
 "cells": [
  {
   "cell_type": "code",
   "execution_count": 1,
   "metadata": {},
   "outputs": [
    {
     "name": "stdout",
     "output_type": "stream",
     "text": [
      "您的BMI是:24.61\n",
      "您的體重是:67.0\n",
      "您的BMI指數:體重過重\n"
     ]
    }
   ],
   "source": [
    "class BMI:\n",
    "    def __init__(self,name:str,height:float,weight:float):\n",
    "        # attribute\n",
    "        self.name = name\n",
    "        self.height = height\n",
    "        self.weight = weight\n",
    "\n",
    "    # instance method\n",
    "    def get_status(self)->str:\n",
    "        outStatus = \"\"\n",
    "        bmi = self.outBMI\n",
    "        if bmi >= 35 :\n",
    "            outStatus = '重度肥胖'\n",
    "        elif bmi >= 30 :\n",
    "            outStatus = '中度肥胖'\n",
    "        elif bmi >= 27 :\n",
    "            outStatus = '輕度肥胖'\n",
    "        elif bmi >= 24 :\n",
    "            outStatus = '體重過重'\n",
    "        elif bmi >= 18.5 :\n",
    "            outStatus = '正常範圍'\n",
    "        else :\n",
    "            outStatus = '體重過輕' \n",
    "        self.outStatus = outStatus\n",
    "        return self.outStatus\n",
    "    \n",
    "    def get_BMI(self)->float:\n",
    "        outBMI = round(self.weight / ((self.height/100)**2), 2)\n",
    "        self.outBMI = outBMI\n",
    "        return self.outBMI\n",
    "\n",
    "while(True):\n",
    "    try:\n",
    "        name = input(\"姓名:\")\n",
    "        height = float(input(\"請輸入身高(公分):\"))\n",
    "        weight = float(input(\"請輸入體重(公斤):\"))\n",
    "        p1 = BMI(name, height, weight)\n",
    "        break\n",
    "    except Exception:\n",
    "        print('輸入格式錯誤,請重新輸入!')\n",
    "    \n",
    "print(f'您的BMI是:{p1.get_BMI()}')\n",
    "print(f'您的體重是:{weight}')\n",
    "print(f'您的BMI指數:{p1.get_status()}')"
   ]
  }
 ],
 "metadata": {
  "kernelspec": {
   "display_name": "base",
   "language": "python",
   "name": "python3"
  },
  "language_info": {
   "codemirror_mode": {
    "name": "ipython",
    "version": 3
   },
   "file_extension": ".py",
   "mimetype": "text/x-python",
   "name": "python",
   "nbconvert_exporter": "python",
   "pygments_lexer": "ipython3",
   "version": "3.12.7"
  }
 },
 "nbformat": 4,
 "nbformat_minor": 2
}
