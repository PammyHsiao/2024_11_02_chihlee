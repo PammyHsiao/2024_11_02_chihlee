{
 "cells": [
  {
   "cell_type": "code",
   "execution_count": 3,
   "metadata": {},
   "outputs": [
    {
     "data": {
      "text/plain": [
       "[{'name': 'Cherry', 'price': 30},\n",
       " {'name': 'Apple', 'price': 20},\n",
       " {'name': 'Banana', 'price': 10}]"
      ]
     },
     "execution_count": 3,
     "metadata": {},
     "output_type": "execute_result"
    }
   ],
   "source": [
    "items:list[dict] = [\n",
    "         {\"name\":\"Apple\",\"price\":20},\n",
    "         {\"name\":\"Banana\",\"price\":10},\n",
    "         {\"name\":\"Cherry\",\"price\":30}\n",
    "         ]\n",
    "sorted(items,key=lambda x:x['price'],reverse=True)\n"
   ]
  },
  {
   "cell_type": "code",
   "execution_count": null,
   "metadata": {},
   "outputs": [
    {
     "data": {
      "text/plain": [
       "('rogert', 35, 180, 80)"
      ]
     },
     "execution_count": 5,
     "metadata": {},
     "output_type": "execute_result"
    }
   ],
   "source": [
    "#拆解法, tuple其一功能是打包\n",
    "name,age,height,weight = 'rogert',35,180,80\n",
    "name,age,height,weight\n"
   ]
  },
  {
   "cell_type": "code",
   "execution_count": 8,
   "metadata": {},
   "outputs": [
    {
     "name": "stdout",
     "output_type": "stream",
     "text": [
      "name\n",
      "Apple\n",
      "========\n",
      "price\n",
      "20\n",
      "========\n"
     ]
    }
   ],
   "source": [
    "for key,value in {\"name\":\"Apple\",\"price\":\"20\"}.items():\n",
    "    print(key)\n",
    "    print(value)\n",
    "    print(\"========\")"
   ]
  }
 ],
 "metadata": {
  "kernelspec": {
   "display_name": "base",
   "language": "python",
   "name": "python3"
  },
  "language_info": {
   "codemirror_mode": {
    "name": "ipython",
    "version": 3
   },
   "file_extension": ".py",
   "mimetype": "text/x-python",
   "name": "python",
   "nbconvert_exporter": "python",
   "pygments_lexer": "ipython3",
   "version": "3.12.7"
  }
 },
 "nbformat": 4,
 "nbformat_minor": 2
}
