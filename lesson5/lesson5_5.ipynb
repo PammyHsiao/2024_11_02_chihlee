{
 "cells": [
  {
   "cell_type": "code",
   "execution_count": null,
   "metadata": {},
   "outputs": [],
   "source": [
    "#set元素不能重複\n",
    "set1 = {0,0,1,1,2,2,3,3}\n",
    "for item in list(set1):\n",
    "    print(item)\n"
   ]
  }
 ],
 "metadata": {
  "kernelspec": {
   "display_name": "base",
   "language": "python",
   "name": "python3"
  },
  "language_info": {
   "name": "python",
   "version": "3.12.7"
  }
 },
 "nbformat": 4,
 "nbformat_minor": 2
}
