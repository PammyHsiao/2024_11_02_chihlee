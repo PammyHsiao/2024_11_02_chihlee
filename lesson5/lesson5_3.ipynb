{
 "cells": [
  {
   "cell_type": "code",
   "execution_count": null,
   "metadata": {},
   "outputs": [
    {
     "name": "stdout",
     "output_type": "stream",
     "text": [
      "Banana\n",
      "10\n",
      "============\n",
      "Apple\n",
      "20\n",
      "============\n",
      "Banana\n",
      "30\n",
      "============\n"
     ]
    }
   ],
   "source": [
    "class Item:\n",
    "    def __init__(self,name:str,price:int):\n",
    "        self.name = name\n",
    "        self.price = price\n",
    "items = [Item(\"Apple\",20),\n",
    "        Item(\"Banana\",10),\n",
    "        Item(\"Banana\",30)]\n",
    "def abc(x:Item)->int:\n",
    "    return x.price\n",
    "\n",
    "newItems = sorted(items,key=abc)\n",
    "for item in newItems:\n",
    "    print(item.name)\n",
    "    print(item.price)\n",
    "    print(\"============\")\n",
    "\n",
    "\n",
    "\n"
   ]
  },
  {
   "cell_type": "code",
   "execution_count": null,
   "metadata": {},
   "outputs": [
    {
     "name": "stdout",
     "output_type": "stream",
     "text": [
      "Banana\n",
      "10\n",
      "============\n",
      "Apple\n",
      "20\n",
      "============\n",
      "Banana\n",
      "30\n",
      "============\n"
     ]
    }
   ],
   "source": [
    "class Item:\n",
    "    def __init__(self,name:str,price:int):\n",
    "        self.name = name\n",
    "        self.price = price\n",
    "items = [Item(\"Apple\",20),\n",
    "        Item(\"Banana\",10),\n",
    "        Item(\"Banana\",30)]\n",
    "#def abc(x:Item)->int:\n",
    "    #return x.price\n",
    "\n",
    "newItems = sorted(items,key=lambda x:x.price,reverse=True)\n",
    "for item in newItems:\n",
    "    print(item.name)\n",
    "    print(item.price)\n",
    "    print(\"============\")"
   ]
  },
  {
   "cell_type": "code",
   "execution_count": 6,
   "metadata": {},
   "outputs": [],
   "source": [
    "#可不用建立class, 改用dictionary\n",
    "\n",
    "items = [{\"name\":\"Apple\",\"price\":20},\n",
    "         {\"name\":\"Banana\",\"price\":10},\n",
    "         {\"name\":\"Cherry\",\"price\":30}\n",
    "         ]"
   ]
  },
  {
   "cell_type": "code",
   "execution_count": 9,
   "metadata": {},
   "outputs": [
    {
     "data": {
      "text/plain": [
       "('Apple', 20)"
      ]
     },
     "execution_count": 9,
     "metadata": {},
     "output_type": "execute_result"
    }
   ],
   "source": [
    "#list 用索引, dict 用key\n",
    "\n",
    "item:dict={\"name\":\"Apple\",\n",
    "           \"price\":20\n",
    "           }\n",
    "item['name'],item['price']"
   ]
  }
 ],
 "metadata": {
  "kernelspec": {
   "display_name": "base",
   "language": "python",
   "name": "python3"
  },
  "language_info": {
   "codemirror_mode": {
    "name": "ipython",
    "version": 3
   },
   "file_extension": ".py",
   "mimetype": "text/x-python",
   "name": "python",
   "nbconvert_exporter": "python",
   "pygments_lexer": "ipython3",
   "version": "3.12.7"
  }
 },
 "nbformat": 4,
 "nbformat_minor": 2
}
